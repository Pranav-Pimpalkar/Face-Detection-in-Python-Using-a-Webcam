{
  "nbformat": 4,
  "nbformat_minor": 0,
  "metadata": {
    "colab": {
      "provenance": []
    },
    "kernelspec": {
      "name": "python3",
      "display_name": "Python 3"
    },
    "language_info": {
      "name": "python"
    }
  },
  "cells": [
    {
      "cell_type": "code",
      "source": [
        "import cv2\n",
        "import sys\n",
        "\n",
        "cascPath = sys.argv[1]\n",
        "faceCascade = cv2.CascadeClassifier(cascPath)"
      ],
      "metadata": {
        "id": "XT5DIK0b4HmO"
      },
      "execution_count": 15,
      "outputs": []
    },
    {
      "cell_type": "code",
      "source": [
        "video_capture = cv2.VideoCapture(0)"
      ],
      "metadata": {
        "id": "89GcaHkd4crH"
      },
      "execution_count": 16,
      "outputs": []
    },
    {
      "cell_type": "code",
      "source": [
        "while True:\n",
        "    # Capture frame-by-frame\n",
        "    ret, frame = video_capture.read()"
      ],
      "metadata": {
        "id": "ZEu_pSZt4hfJ"
      },
      "execution_count": null,
      "outputs": []
    },
    {
      "cell_type": "code",
      "source": [
        "# Capture frame-by-frame\n",
        "    ret, frame = video_capture.read()\n",
        "\n",
        "    gray = cv2.cvtColor(frame, cv2.COLOR_BGR2GRAY)\n",
        "\n",
        "    faces = faceCascade.detectMultiScale(\n",
        "        gray,\n",
        "        scaleFactor=1.1,\n",
        "        minNeighbors=5,\n",
        "        minSize=(30, 30),\n",
        "        flags=cv2.cv.CV_HAAR_SCALE_IMAGE\n",
        "    )\n",
        "\n",
        "    # Draw a rectangle around the faces\n",
        "    for (x, y, w, h) in faces:\n",
        "        cv2.rectangle(frame, (x, y), (x+w, y+h), (0, 255, 0), 2)\n",
        "\n",
        "    # Display the resulting frame\n",
        "    cv2.imshow('Video', frame)"
      ],
      "metadata": {
        "id": "XZ6u6JeE5H95"
      },
      "execution_count": null,
      "outputs": []
    },
    {
      "cell_type": "code",
      "source": [
        "if cv2.waitKey(1) & 0xFF == ord('q'):\n",
        "    break"
      ],
      "metadata": {
        "id": "sQSvfczV5TFe"
      },
      "execution_count": null,
      "outputs": []
    },
    {
      "cell_type": "code",
      "source": [
        "# When everything is done, release the capture\n",
        "video_capture.release()\n",
        "cv2.destroyAllWindows()"
      ],
      "metadata": {
        "id": "_Gzo0gjP4rdU"
      },
      "execution_count": null,
      "outputs": []
    }
  ]
}